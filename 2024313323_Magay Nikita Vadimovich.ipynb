{
  "nbformat": 4,
  "nbformat_minor": 0,
  "metadata": {
    "colab": {
      "provenance": []
    },
    "kernelspec": {
      "name": "python3",
      "display_name": "Python 3"
    },
    "language_info": {
      "name": "python"
    }
  },
  "cells": [
    {
      "cell_type": "code",
      "execution_count": 20,
      "metadata": {
        "colab": {
          "base_uri": "https://localhost:8080/"
        },
        "id": "-fZXZpJmrD9W",
        "outputId": "af414936-a98e-47ff-f751-b068e5425f97"
      },
      "outputs": [
        {
          "output_type": "stream",
          "name": "stdout",
          "text": [
            "False\n"
          ]
        }
      ],
      "source": [
        "def isHappy(n):\n",
        "  # Complete the isHappy() function below\n",
        "  # The function should return either True or False\n",
        "  n_cop = n\n",
        "  records = set()\n",
        "  while True:\n",
        "    sum = 0\n",
        "    for digit in str(n_cop):\n",
        "      sum += int(digit)**2\n",
        "    if sum in records:\n",
        "      return False\n",
        "    elif sum == 1:\n",
        "      return True\n",
        "    else:\n",
        "      records.add(sum)\n",
        "      n_cop = sum"
      ]
    },
    {
      "cell_type": "code",
      "source": [],
      "metadata": {
        "id": "2YxU-klTt1iv"
      },
      "execution_count": 12,
      "outputs": []
    },
    {
      "cell_type": "code",
      "source": [],
      "metadata": {
        "id": "TxAZg7QLzKdd"
      },
      "execution_count": null,
      "outputs": []
    }
  ]
}