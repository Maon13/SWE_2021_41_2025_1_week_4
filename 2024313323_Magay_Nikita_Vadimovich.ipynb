{
  "nbformat": 4,
  "nbformat_minor": 0,
  "metadata": {
    "colab": {
      "provenance": [],
      "authorship_tag": "ABX9TyOXqKWqN6XsYA8wQXwL5RQa",
      "include_colab_link": true
    },
    "kernelspec": {
      "name": "python3",
      "display_name": "Python 3"
    },
    "language_info": {
      "name": "python"
    }
  },
  "cells": [
    {
      "cell_type": "markdown",
      "metadata": {
        "id": "view-in-github",
        "colab_type": "text"
      },
      "source": [
        "<a href=\"https://colab.research.google.com/github/Maon13/SWE_2021_41_2025_1_week_4/blob/main/2024313323_Magay_Nikita_Vadimovich.ipynb\" target=\"_parent\"><img src=\"https://colab.research.google.com/assets/colab-badge.svg\" alt=\"Open In Colab\"/></a>"
      ]
    },
    {
      "cell_type": "code",
      "execution_count": 21,
      "metadata": {
        "id": "-fZXZpJmrD9W"
      },
      "outputs": [],
      "source": [
        "def isHappy(n):\n",
        "  # Complete the isHappy() function below\n",
        "  # The function should return either True or False\n",
        "  n_cop = n\n",
        "  records = set()\n",
        "  while True:\n",
        "    sum = 0\n",
        "    for digit in str(n_cop):\n",
        "      sum += int(digit)**2\n",
        "    if sum in records:\n",
        "      return False\n",
        "    elif sum == 1:\n",
        "      return True\n",
        "    else:\n",
        "      records.add(sum)\n",
        "      n_cop = sum"
      ]
    }
  ]
}